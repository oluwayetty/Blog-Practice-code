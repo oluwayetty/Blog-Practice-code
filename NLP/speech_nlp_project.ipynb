{
 "cells": [
  {
   "cell_type": "markdown",
   "metadata": {},
   "source": [
    "# NLP PROJECT \n",
    "\n",
    "### Scenario: Waiter Robot in a coffee shop.\n",
    "#### On entering the coffee shop, the robot engages the customer to know what type of coffee they want to buy."
   ]
  },
  {
   "cell_type": "code",
   "execution_count": null,
   "metadata": {},
   "outputs": [],
   "source": [
    "# Install spacy and speech_recognition\n",
    "import speech_recognition as sr\n",
    "import spacy\n",
    "from spacy.symbols import NOUN\n",
    "from spacy import displacy\n",
    "import pyttsx3"
   ]
  },
  {
   "cell_type": "raw",
   "metadata": {},
   "source": [
    "Declaration of bag of words"
   ]
  },
  {
   "cell_type": "code",
   "execution_count": 2,
   "metadata": {},
   "outputs": [],
   "source": [
    "#Initiliaze the pyttsx3 text to speech library and spacy library\n",
    "engine = pyttsx3.init()\n",
    "nlp = spacy.load('en_core_web_lg')\n",
    "avail_coffee = ['Espresso','Cappuccino','Vienna']\n",
    "words = ['type','kind','have','what']\n",
    "no_avail = ['nothing']\n",
    "doc = []\n",
    "nouns = set()  "
   ]
  },
  {
   "cell_type": "raw",
   "metadata": {},
   "source": [
    "The Robot welcomes to the customer to the shop."
   ]
  },
  {
   "cell_type": "code",
   "execution_count": null,
   "metadata": {},
   "outputs": [],
   "source": [
    "#Welcome message\n",
    "def welcome_message():\n",
    "    hi_speech = 'Hello! Welcome to our coffee shop. What kind of coffee do you want?'\n",
    "    engine.say(hi_speech)\n",
    "    engine.runAndWait()\n"
   ]
  },
  {
   "cell_type": "raw",
   "metadata": {},
   "source": [
    "Robot takes Customer order"
   ]
  },
  {
   "cell_type": "code",
   "execution_count": 6,
   "metadata": {},
   "outputs": [
    {
     "name": "stdout",
     "output_type": "stream",
     "text": [
      "docccc give me a cup of espresso.\n"
     ]
    },
    {
     "data": {
      "text/html": [
       "<svg xmlns=\"http://www.w3.org/2000/svg\" xmlns:xlink=\"http://www.w3.org/1999/xlink\" id=\"628-0\" class=\"displacy\" width=\"1100\" height=\"312.0\" style=\"max-width: none; height: 312.0px; color: #000000; background: #ffffff; font-family: Arial\">\n",
       "<text class=\"displacy-token\" fill=\"currentColor\" text-anchor=\"middle\" y=\"222.0\">\n",
       "    <tspan class=\"displacy-word\" fill=\"currentColor\" x=\"50\">give</tspan>\n",
       "    <tspan class=\"displacy-tag\" dy=\"2em\" fill=\"currentColor\" x=\"50\">VERB</tspan>\n",
       "</text>\n",
       "\n",
       "<text class=\"displacy-token\" fill=\"currentColor\" text-anchor=\"middle\" y=\"222.0\">\n",
       "    <tspan class=\"displacy-word\" fill=\"currentColor\" x=\"225\">me</tspan>\n",
       "    <tspan class=\"displacy-tag\" dy=\"2em\" fill=\"currentColor\" x=\"225\">PRON</tspan>\n",
       "</text>\n",
       "\n",
       "<text class=\"displacy-token\" fill=\"currentColor\" text-anchor=\"middle\" y=\"222.0\">\n",
       "    <tspan class=\"displacy-word\" fill=\"currentColor\" x=\"400\">a</tspan>\n",
       "    <tspan class=\"displacy-tag\" dy=\"2em\" fill=\"currentColor\" x=\"400\">DET</tspan>\n",
       "</text>\n",
       "\n",
       "<text class=\"displacy-token\" fill=\"currentColor\" text-anchor=\"middle\" y=\"222.0\">\n",
       "    <tspan class=\"displacy-word\" fill=\"currentColor\" x=\"575\">cup</tspan>\n",
       "    <tspan class=\"displacy-tag\" dy=\"2em\" fill=\"currentColor\" x=\"575\">NOUN</tspan>\n",
       "</text>\n",
       "\n",
       "<text class=\"displacy-token\" fill=\"currentColor\" text-anchor=\"middle\" y=\"222.0\">\n",
       "    <tspan class=\"displacy-word\" fill=\"currentColor\" x=\"750\">of</tspan>\n",
       "    <tspan class=\"displacy-tag\" dy=\"2em\" fill=\"currentColor\" x=\"750\">ADP</tspan>\n",
       "</text>\n",
       "\n",
       "<text class=\"displacy-token\" fill=\"currentColor\" text-anchor=\"middle\" y=\"222.0\">\n",
       "    <tspan class=\"displacy-word\" fill=\"currentColor\" x=\"925\">espresso.</tspan>\n",
       "    <tspan class=\"displacy-tag\" dy=\"2em\" fill=\"currentColor\" x=\"925\">NOUN</tspan>\n",
       "</text>\n",
       "\n",
       "<g class=\"displacy-arrow\">\n",
       "    <path class=\"displacy-arc\" id=\"arrow-628-0-0\" stroke-width=\"2px\" d=\"M70,177.0 C70,89.5 220.0,89.5 220.0,177.0\" fill=\"none\" stroke=\"currentColor\"/>\n",
       "    <text dy=\"1.25em\" style=\"font-size: 0.8em; letter-spacing: 1px\">\n",
       "        <textPath xlink:href=\"#arrow-628-0-0\" class=\"displacy-label\" startOffset=\"50%\" fill=\"currentColor\" text-anchor=\"middle\">dative</textPath>\n",
       "    </text>\n",
       "    <path class=\"displacy-arrowhead\" d=\"M220.0,179.0 L228.0,167.0 212.0,167.0\" fill=\"currentColor\"/>\n",
       "</g>\n",
       "\n",
       "<g class=\"displacy-arrow\">\n",
       "    <path class=\"displacy-arc\" id=\"arrow-628-0-1\" stroke-width=\"2px\" d=\"M420,177.0 C420,89.5 570.0,89.5 570.0,177.0\" fill=\"none\" stroke=\"currentColor\"/>\n",
       "    <text dy=\"1.25em\" style=\"font-size: 0.8em; letter-spacing: 1px\">\n",
       "        <textPath xlink:href=\"#arrow-628-0-1\" class=\"displacy-label\" startOffset=\"50%\" fill=\"currentColor\" text-anchor=\"middle\">det</textPath>\n",
       "    </text>\n",
       "    <path class=\"displacy-arrowhead\" d=\"M420,179.0 L412,167.0 428,167.0\" fill=\"currentColor\"/>\n",
       "</g>\n",
       "\n",
       "<g class=\"displacy-arrow\">\n",
       "    <path class=\"displacy-arc\" id=\"arrow-628-0-2\" stroke-width=\"2px\" d=\"M70,177.0 C70,2.0 575.0,2.0 575.0,177.0\" fill=\"none\" stroke=\"currentColor\"/>\n",
       "    <text dy=\"1.25em\" style=\"font-size: 0.8em; letter-spacing: 1px\">\n",
       "        <textPath xlink:href=\"#arrow-628-0-2\" class=\"displacy-label\" startOffset=\"50%\" fill=\"currentColor\" text-anchor=\"middle\">dobj</textPath>\n",
       "    </text>\n",
       "    <path class=\"displacy-arrowhead\" d=\"M575.0,179.0 L583.0,167.0 567.0,167.0\" fill=\"currentColor\"/>\n",
       "</g>\n",
       "\n",
       "<g class=\"displacy-arrow\">\n",
       "    <path class=\"displacy-arc\" id=\"arrow-628-0-3\" stroke-width=\"2px\" d=\"M595,177.0 C595,89.5 745.0,89.5 745.0,177.0\" fill=\"none\" stroke=\"currentColor\"/>\n",
       "    <text dy=\"1.25em\" style=\"font-size: 0.8em; letter-spacing: 1px\">\n",
       "        <textPath xlink:href=\"#arrow-628-0-3\" class=\"displacy-label\" startOffset=\"50%\" fill=\"currentColor\" text-anchor=\"middle\">prep</textPath>\n",
       "    </text>\n",
       "    <path class=\"displacy-arrowhead\" d=\"M745.0,179.0 L753.0,167.0 737.0,167.0\" fill=\"currentColor\"/>\n",
       "</g>\n",
       "\n",
       "<g class=\"displacy-arrow\">\n",
       "    <path class=\"displacy-arc\" id=\"arrow-628-0-4\" stroke-width=\"2px\" d=\"M770,177.0 C770,89.5 920.0,89.5 920.0,177.0\" fill=\"none\" stroke=\"currentColor\"/>\n",
       "    <text dy=\"1.25em\" style=\"font-size: 0.8em; letter-spacing: 1px\">\n",
       "        <textPath xlink:href=\"#arrow-628-0-4\" class=\"displacy-label\" startOffset=\"50%\" fill=\"currentColor\" text-anchor=\"middle\">pobj</textPath>\n",
       "    </text>\n",
       "    <path class=\"displacy-arrowhead\" d=\"M920.0,179.0 L928.0,167.0 912.0,167.0\" fill=\"currentColor\"/>\n",
       "</g>\n",
       "</svg>"
      ],
      "text/plain": [
       "<IPython.core.display.HTML object>"
      ]
     },
     "metadata": {},
     "output_type": "display_data"
    },
    {
     "name": "stdout",
     "output_type": "stream",
     "text": [
      "Espresso\n",
      "nouns are: {'espresso'}\n",
      "Length nouns 1\n"
     ]
    }
   ],
   "source": [
    "#Take order from customer\n",
    "def takeOrder():\n",
    "    r = sr.Recognizer()\n",
    "    with sr.Microphone() as source:\n",
    "#         print(\"Speak:\")\n",
    "#         audio = r.listen(source)\n",
    "#         print(\"You said \" + r.recognize_google(audio))\n",
    "#         example_text = r.recognize_google(audio)\n",
    "#         doc = nlp(example_text)\n",
    "        doc = nlp(u\"give me a cup of espresso.\")\n",
    "        print(\"docccc\", doc)\n",
    "        displacy.render(doc, style='dep', jupyter=True)\n",
    "\n",
    "        # options = {'compact': True, 'bg': '#09a3d5','color': 'white', 'font': 'Trebuchet MS'}\n",
    "        # spacy.displacy.serve(doc,style='dep', options=options)\n",
    "\n",
    "    for possible_subject in doc:\n",
    "        if (possible_subject.pos == NOUN and possible_subject.text.title() in avail_coffee):\n",
    "            nouns.add(possible_subject.text)\n",
    "    print('nouns are:',nouns)\n",
    "    print('Length nouns',len(nouns))\n",
    "\n",
    "#     if(len(nouns) == 0):\n",
    "#         engine.say('I am sorry,I don\\'t understand,Please come again.')\n",
    "#         engine.runAndWait()\n",
    "#         takeOrder()\n",
    "#         confirmOrder()\n",
    "takeOrder() \n"
   ]
  },
  {
   "cell_type": "code",
   "execution_count": null,
   "metadata": {},
   "outputs": [],
   "source": [
    "print(nouns)"
   ]
  },
  {
   "cell_type": "raw",
   "metadata": {},
   "source": [
    "Robot confirms Customer order"
   ]
  },
  {
   "cell_type": "code",
   "execution_count": null,
   "metadata": {},
   "outputs": [],
   "source": [
    "#Confirm customers order and deliver order\n",
    "def confirmOrder():\n",
    "    for drink in nouns:\n",
    "        #If the coffee the customer ordered is available\n",
    "        if drink in avail_coffee:\n",
    "            print('You want ', drink)\n",
    "            engine.say('Here is your '+ drink)\n",
    "            engine.say('Enjoy!') \n",
    "            engine.runAndWait()\n",
    "            break;\n",
    "        #If customer doesn't know what type of coffee that is available\n",
    "        elif drink in words:\n",
    "            engine.say('We have ')\n",
    "            for a in avail_coffee:\n",
    "                engine.say(a)\n",
    "                engine.runAndWait()\n",
    "            engine.say('What would you like?')\n",
    "            engine.runAndWait()\n",
    "            nouns.pop()\n",
    "            takeOrder()\n",
    "        #If customer doesn't want the available coffee\n",
    "        elif drink in no_avail:\n",
    "            engine.say('Okay. Thank you for stopping by!')\n",
    "            engine.runAndWait()\n",
    "            break\n",
    "        #If customer request for something that is not available in the coffee shop\n",
    "        elif drink not in avail_coffee and words and no_avail:\n",
    "            print('Sorry, we don\\'t have '+drink)\n",
    "            engine.say('Sorry We don\\'t have '+drink)\n",
    "            engine.say('Here is what we have: ')\n",
    "            for a in avail_coffee:\n",
    "                engine.say(a)\n",
    "                engine.runAndWait()\n",
    "            engine.say('What would you like?')\n",
    "            engine.runAndWait()\n",
    "            nouns.pop()\n",
    "            takeOrder()\n"
   ]
  },
  {
   "cell_type": "raw",
   "metadata": {},
   "source": [
    "Exception Handling."
   ]
  },
  {
   "cell_type": "code",
   "execution_count": null,
   "metadata": {},
   "outputs": [],
   "source": [
    "#Program Execution\n",
    "try:\n",
    "    welcome_message()\n",
    "    takeOrder()\n",
    "    confirmOrder()\n",
    "except sr.UnknownValueError:\n",
    "    engine.say('I am sorry,I don\\'t understand,Please come again.')\n",
    "    engine.runAndWait()\n",
    "    takeOrder()\n",
    "    confirmOrder()\n",
    "except sr.RequestError as e:\n",
    "    print(\"Could not request results; {0}\".format(e))\n",
    "    engine.say('I am sorry,I don\\'t understand,Please come again.')\n",
    "    engine.runAndWait()\n",
    "    takeOrder()\n",
    "    confirmOrder() \n"
   ]
  }
 ],
 "metadata": {
  "kernelspec": {
   "display_name": "Python 3",
   "language": "python",
   "name": "python3"
  },
  "language_info": {
   "codemirror_mode": {
    "name": "ipython",
    "version": 3
   },
   "file_extension": ".py",
   "mimetype": "text/x-python",
   "name": "python",
   "nbconvert_exporter": "python",
   "pygments_lexer": "ipython3",
   "version": "3.6.6"
  }
 },
 "nbformat": 4,
 "nbformat_minor": 2
}
